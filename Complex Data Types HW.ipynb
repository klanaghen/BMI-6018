{
 "cells": [
  {
   "cell_type": "code",
   "execution_count": 88,
   "id": "e8a18fe7-e876-46e5-8346-6667d71bc36e",
   "metadata": {},
   "outputs": [
    {
     "name": "stdout",
     "output_type": "stream",
     "text": [
      "1a :my list\n",
      "['0', '1', '2', '3', '4', '5', '6', '7', '8', '9']\n",
      "1b: list with 3 inserted at index 5\n",
      "['0', '1', '2', '3', '4', '3', '5', '6', '7', '8', '9']\n",
      "1c:turning list into floats\n",
      "[0.0, 1.0, 2.0, 3.0, 4.0, 3.0, 5.0, 6.0, 7.0, 8.0, 9.0]\n",
      "1d: creating set from list\n",
      "{'5', '8', '7', '4', '1', '9', '3', '0', '2', '6'}\n",
      "1e: append 10 to list\n",
      "<class 'list'>\n",
      "1f: pop 7 from list\n",
      "<class 'list'>\n",
      "1g: length of set\n",
      "10\n",
      "1H: list is not the same length as set\n",
      "1i list from 1d list\n",
      "['5', '8', '7', '4', '1', '9', '3', '0', '2', '6']\n",
      "now combining the original list and the coerced list\n",
      "['0', '1', '2', '3', '4', '3', '5', '7', '8', '9', 10, '5', '8', '7', '4', '1', '9', '3', '0', '2', '6']\n",
      "length of combined list in 1j is\n",
      "21\n"
     ]
    }
   ],
   "source": [
    "#Problem 1\n",
    "#1A\n",
    "my_list = ['0', '1', '2', '3', '4', '5', '6', '7', '8', '9']\n",
    "print(\"1a :my list\")\n",
    "print(my_list)\n",
    "\n",
    "#1b\n",
    "my_list.insert (5, '3')\n",
    "print(\"1b: list with 3 inserted at index 5\")\n",
    "print(my_list)\n",
    "\n",
    "#1c\n",
    "float_list = [float (item) for item in my_list]\n",
    "print(\"1c:turning list into floats\")\n",
    "print (float_list)\n",
    "\n",
    "#1d\n",
    "new_set = set(my_list)\n",
    "print(\"1d: creating set from list\")\n",
    "print(new_set)\n",
    "\n",
    "#1e\n",
    "my_list.append(10)\n",
    "print(\"1e: append 10 to list\")\n",
    "print(list)\n",
    "\n",
    "#1f\n",
    "my_list.pop(7)\n",
    "print(\"1f: pop 7 from list\")\n",
    "print(list)\n",
    "\n",
    "#1g\n",
    "print(\"1g: length of set\")\n",
    "print(len(new_set))\n",
    "\n",
    "#1h\n",
    "if len(new_set) == len(my_list):\n",
    "    print(\"1H: list same length as set\")\n",
    "else:\n",
    "    print(\"1H: list is not the same length as set\")\n",
    "\n",
    "#1i\n",
    "final_list = list(new_set)\n",
    "print(\"1i list from 1d list\")\n",
    "print(final_list)\n",
    "print(\"now combining the original list and the coerced list\")\n",
    "combined_list = my_list + final_list\n",
    "print(combined_list)\n",
    "\n",
    "#1j\n",
    "print(\"length of combined list in 1j is\")\n",
    "print(len(combined_list))\n"
   ]
  },
  {
   "cell_type": "code",
   "execution_count": 89,
   "id": "33008254-3153-4119-8a85-2abb6bed26e7",
   "metadata": {},
   "outputs": [
    {
     "name": "stdout",
     "output_type": "stream",
     "text": [
      "2a: combined 3 dictionaries\n",
      "{'two_patient_dictionary_kinoko': {'name': 'Kinoko', 'year': 2021}, 'two_patient_dictionary_dango': {'name': 'Dango', 'year': 2019}, 'two_patient_dictionary_mochi': {'name': 'Mochi', 'year': 2020}}\n",
      "2b: retreive Dango's name using keys\n",
      "Dango\n",
      "2c: Update Mochi's year to 2018\n",
      "{'two_patient_dictionary_kinoko': {'name': 'Kinoko', 'year': 2021}, 'two_patient_dictionary_dango': {'name': 'Dango', 'year': 2019}, 'two_patient_dictionary_mochi': {'name': 'Mochi', 'year': 2018}}\n",
      "2e: coercing keys into list\n",
      "['Kinoko', 'Dango', 'Mochi']\n",
      "2f: coercing values into list\n",
      "[2021, 2019, 2019]\n",
      "2g: recombining the dictionary\n",
      "{'Kinoko': 2021, 'Dango': 2019, 'Mochi': 2019}\n"
     ]
    }
   ],
   "source": [
    "#Problem 2\n",
    "\n",
    "two_patient_dictionary_kinoko = {\"name\" : \"Kinoko\",\n",
    "                                 \"year\" : 2021}\n",
    "\n",
    "two_patient_dictionary_dango = {\"name\" : \"Dango\",\n",
    "                                \"year\" : 2019}\n",
    "\n",
    "two_patient_dictionary_mochi  = {\"name\" : \"Mochi\",\n",
    "                                 \"year\" : 2020}\n",
    "\n",
    "#2a\n",
    "two_a = {'two_patient_dictionary_kinoko': {\"name\" : \"Kinoko\", \"year\" : 2021}, \n",
    "         'two_patient_dictionary_dango': {\"name\" : \"Dango\",\"year\" : 2019}, \n",
    "         'two_patient_dictionary_mochi': {\"name\" : \"Mochi\",\"year\" : 2020}}\n",
    "#creating a nested dictionary to preserve dictionary names as keys, \"name\" and \"year\" as the nested keys, and the names and years as values\n",
    "print(\"2a: combined 3 dictionaries\")\n",
    "print(two_a)\n",
    "\n",
    "#2b\n",
    "print(\"2b: retreive Dango's name using keys\")\n",
    "print(two_a['two_patient_dictionary_dango']['name'])\n",
    "\n",
    "#2c\n",
    "(two_a['two_patient_dictionary_mochi']['year']) = 2018\n",
    "print(\"2c: Update Mochi's year to 2018\")\n",
    "print(two_a)\n",
    "\n",
    "#2d\n",
    "two_d = {'Kinoko':2021, 'Dango':2019, 'Mochi':2019}\n",
    "#2e\n",
    "two_d_keys = list(two_d.keys())\n",
    "print(\"2e: coercing keys into list\")\n",
    "print(two_d_keys)\n",
    "\n",
    "#2f\n",
    "two_d_values = list(two_d.values())\n",
    "print(\"2f: coercing values into list\")\n",
    "print(two_d_values)\n",
    "\n",
    "#2g\n",
    "combined_dict = dict(zip(two_d.keys(), two_d.values()))\n",
    "print(\"2g: recombining the dictionary\")\n",
    "print(combined_dict)"
   ]
  },
  {
   "cell_type": "code",
   "execution_count": 90,
   "id": "fbcc343c-f3a5-4ef1-a639-2c1bb7649460",
   "metadata": {},
   "outputs": [
    {
     "name": "stdout",
     "output_type": "stream",
     "text": [
      "3a: True\n",
      "3b: True\n",
      "3c: {1, 2, 3, 4}\n",
      "3d: {1, 2, 3, 4, 5, 6, 7, 8, 9}\n",
      "3e: {1, 2, 3, 4, 5, 6, 7, 8, 9}\n",
      "3f: converting union_CDE to a list\n",
      "[1, 2, 3, 4, 5, 6, 7, 8, 9]\n",
      "compare to list from 1a\n",
      "False\n",
      "these lists are not the same because at index 0 in the list from 1a\n",
      "there is a 0, but at index 0 in union_CDE, there is a 1, then it moves numerically\n"
     ]
    }
   ],
   "source": [
    "#Problem 3\n",
    "three_setA = {1,2,3,4,5}\n",
    "three_setB = {2,3,4,5,6}\n",
    "three_setC = {3,5,7,9}\n",
    "three_setD = {2,4,6,8}\n",
    "three_setE = {1,2,3,4}\n",
    "#3a\n",
    "print(\"3a:\", three_setE.issubset(three_setA))\n",
    "\n",
    "#3b\n",
    "print(\"3b:\", three_setE.issubset(three_setA) and three_setE != three_setA)\n",
    "\n",
    "#3c\n",
    "intersection = three_setA and three_setE\n",
    "print(\"3c:\",intersection)\n",
    "\n",
    "#3d\n",
    "union_CDE = three_setC|three_setD|three_setE\n",
    "print(\"3d:\", union_CDE)\n",
    "\n",
    "#3e\n",
    "union_CDE.add(9)\n",
    "print(\"3e:\", union_CDE)\n",
    "\n",
    "#3f\n",
    "list_threeE = list(union_CDE)\n",
    "print(\"3f: converting union_CDE to a list\")\n",
    "print(list_threeE)\n",
    "print(\"compare to list from 1a\")\n",
    "print(union_CDE == my_list)\n",
    "\n",
    "#3g\n",
    "print(\"these lists are not the same because at index 0 in the list from 1a\")\n",
    "print(\"there is a 0, but at index 0 in union_CDE, there is a 1, then it moves numerically\")"
   ]
  },
  {
   "cell_type": "code",
   "execution_count": 91,
   "id": "1d26c794-ec24-4b63-94c8-6e5f21fb7c46",
   "metadata": {},
   "outputs": [
    {
     "name": "stdout",
     "output_type": "stream",
     "text": [
      "4a: 8\n",
      "4b: []\n",
      "4c: [<class 'int'>]\n",
      "4d: None\n",
      "4e: [<class 'int'>, 0.39, <class 'float'>]\n",
      "4f: [<class 'int'>, 0.39, <class 'float'>, 12284]\n",
      "4g: [<class 'int'>, 0.39, <class 'float'>, 12284, <class 'int'>]\n"
     ]
    }
   ],
   "source": [
    "#Problem 4\n",
    "#4a\n",
    "fourA = 8\n",
    "print(\"4a:\", (fourA))\n",
    "\n",
    "#4b\n",
    "empty_list = []\n",
    "print(\"4b:\", (empty_list))\n",
    "\n",
    "#4c\n",
    "empty_list.append(type(fourA))\n",
    "print(\"4c:\", empty_list)\n",
    "\n",
    "#4d\n",
    "print(\"4d:\", empty_list.append(0.39))\n",
    "\n",
    "#4e\n",
    "float_fourD = 0.39\n",
    "empty_list.append(type(float_fourD))\n",
    "print(\"4e:\", empty_list) \n",
    "\n",
    "#4f\n",
    "new_value = round(0.39**-10)\n",
    "empty_list.append(new_value)\n",
    "print(\"4f:\", empty_list)\n",
    "\n",
    "#4g\n",
    "empty_list.append(type(new_value))\n",
    "print(\"4g:\", empty_list)"
   ]
  },
  {
   "cell_type": "code",
   "execution_count": 92,
   "id": "9b2da919-f148-4494-9c42-de5d600b7a4c",
   "metadata": {},
   "outputs": [
    {
     "name": "stdout",
     "output_type": "stream",
     "text": [
      "5a: {1: 'int', 2: 0.39, 3: 'float', 4: 12284, 5: 'int'}\n",
      "5b: {1: 'int', 2: 0.39, 3: 'float', 4: 12284, 5: 'int', 6: 300}\n",
      "300 is now a <class 'str'>\n",
      "dictionary with 300 as a string {1: 'int', 2: 0.39, 3: 'float', 4: 12284, 5: 'int', 6: '300'}\n",
      "5c: [<class 'int'>, 0.39, <class 'float'>, 12284, <class 'int'>, '300']\n",
      "5d: '300' sliced to second element: 30\n",
      "5e: [<class 'int'>, 0.39, <class 'float'>, 12284, <class 'int'>, '300', <class 'str'>]\n",
      "[<class 'int'>, 0.39, <class 'float'>, 12284, <class 'int'>, 300, <class 'str'>]\n",
      "5f: this is the new integer list: [0, 12284, 300]\n",
      "5g: [<class 'int'>, 0.39, <class 'float'>, 12284, <class 'int'>, 300, <class 'str'>, <class 'list'>]\n",
      "5h: [<class 'int'>, 0.39, <class 'float'>, 12284, <class 'int'>, 300, <class 'str'>, <class 'list'>, <class 'set'>]\n"
     ]
    }
   ],
   "source": [
    "#Problem 5\n",
    "my_dict = {1:\"int\", 2: 0.39, 3: \"float\", 4: 12284, 5: \"int\"}\n",
    "print(\"5a:\", my_dict)\n",
    "\n",
    "#5b\n",
    "#add 300 to the dictionary\n",
    "my_dict[6] = 300\n",
    "print(\"5b:\", my_dict)\n",
    "\n",
    "#pulling 300 from my dictionary\n",
    "value = my_dict[6]\n",
    "\n",
    "#turning 300 into a string and retrieving it's new type as a string (should give me 'class str') \n",
    "my_dict[6] = '300'\n",
    "type_str = type(my_dict[6])\n",
    "print(\"300 is now a\", type_str)\n",
    "print(\"dictionary with 300 as a string\", my_dict)\n",
    "\n",
    "#5c\n",
    "#now that I have 300 as a string, I am adding it to the list from 4g\n",
    "empty_list.append('300')\n",
    "print(\"5c:\", empty_list)\n",
    "\n",
    "#5d\n",
    "#I added '300' to my list in 5c, now I am going to slice it up to the second element. \n",
    "#This should return 30 because those are the first two elements in the string\n",
    "slice = my_dict[6][:2]\n",
    "print(\"5d: '300' sliced to second element:\", slice)\n",
    "\n",
    "#5e\n",
    "#appending the type to the list, should add 'class str' to the end\n",
    "empty_list.append(type(slice))\n",
    "print(\"5e:\", empty_list)\n",
    "\n",
    "#5f\n",
    "#turning '300' (a string) into an integer inside my list\n",
    "empty_list[5] = int(empty_list[5])\n",
    "print(empty_list) #making sure that 300 is now an integer\n",
    "\n",
    "#making a list from the items in my list that can be converted into integers\n",
    "integer_list = []\n",
    "integer_list = [round(float(item)) for item in empty_list if isinstance(item, (int, float)) and not isinstance(item, bool)]\n",
    "\n",
    "print(\"5f: this is the new integer list:\", integer_list)\n",
    "\n",
    "#5g: appending the type of the integer list to the list from 4g: should add 'class list' because empty_list (my list from 4g) is a list\n",
    "empty_list.append(type(integer_list))\n",
    "print(\"5g:\", empty_list)\n",
    "\n",
    "#5h: appending the type of threeA_set to the list: This should add class 'set' because threeA_set is a set\n",
    "empty_list.append(type(three_setA))\n",
    "print(\"5h:\", empty_list)"
   ]
  },
  {
   "cell_type": "code",
   "execution_count": 93,
   "id": "bbf2119d-dfb1-4410-9c35-0dad6345cf31",
   "metadata": {},
   "outputs": [
    {
     "name": "stdout",
     "output_type": "stream",
     "text": [
      "{1: 'int', 2: 0.39, 3: 'float', 4: 12284, 5: 'int', 6: '300'}\n"
     ]
    }
   ],
   "source": [
    "my_dict[6] = '300'\n",
    "print(my_dict)"
   ]
  },
  {
   "cell_type": "code",
   "execution_count": 94,
   "id": "b507e37a-f7de-4ffe-a1c5-1919b25fd590",
   "metadata": {},
   "outputs": [
    {
     "name": "stdout",
     "output_type": "stream",
     "text": [
      "[1, 2]\n",
      "['int', 0.39]\n",
      "{1: 'int', 2: 0.39}\n"
     ]
    }
   ],
   "source": [
    "first_two_keys = list(my_dict.keys())[:2]\n",
    "print(first_two_keys)\n",
    "first_two_values = list(my_dict.values())[:2]\n",
    "print(first_two_values)\n",
    "first_two_items = dict(list(my_dict.items())[:2])\n",
    "print(first_two_items)"
   ]
  },
  {
   "cell_type": "code",
   "execution_count": 95,
   "id": "9e6f8152-82ff-45b9-9488-d045962b0a7e",
   "metadata": {},
   "outputs": [
    {
     "name": "stdout",
     "output_type": "stream",
     "text": [
      "300\n"
     ]
    }
   ],
   "source": [
    "string_value = str(value)\n",
    "print(string_value)"
   ]
  },
  {
   "cell_type": "code",
   "execution_count": null,
   "id": "cde6ca38-ea43-4f42-bed5-de5eb1e35634",
   "metadata": {},
   "outputs": [],
   "source": []
  }
 ],
 "metadata": {
  "kernelspec": {
   "display_name": "anaconda-2024.02-py310",
   "language": "python",
   "name": "conda-env-anaconda-2024.02-py310-py"
  },
  "language_info": {
   "codemirror_mode": {
    "name": "ipython",
    "version": 3
   },
   "file_extension": ".py",
   "mimetype": "text/x-python",
   "name": "python",
   "nbconvert_exporter": "python",
   "pygments_lexer": "ipython3",
   "version": "3.10.14"
  }
 },
 "nbformat": 4,
 "nbformat_minor": 5
}
