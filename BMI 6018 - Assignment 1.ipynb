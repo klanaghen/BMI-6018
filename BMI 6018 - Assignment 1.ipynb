{
 "cells": [
  {
   "cell_type": "code",
   "execution_count": 3,
   "id": "f37f4c98-cdf1-48d1-9369-461e76f55467",
   "metadata": {
    "scrolled": true
   },
   "outputs": [
    {
     "name": "stdout",
     "output_type": "stream",
     "text": [
      "2\n"
     ]
    }
   ],
   "source": [
    "#Question 1: Booleans\n",
    "boolean_true = 1\n",
    "boolean_false = 0\n",
    "answer = boolean_true + boolean_true - boolean_false\n",
    "print (answer)"
   ]
  },
  {
   "cell_type": "code",
   "execution_count": 5,
   "id": "4164471e-0fd7-4b60-abbf-1ae4c9769f1e",
   "metadata": {},
   "outputs": [
    {
     "name": "stdout",
     "output_type": "stream",
     "text": [
      "1\n"
     ]
    }
   ],
   "source": [
    "#Question 2: Booleans 2\n",
    "true = 1\n",
    "log_tracker = true\n",
    "log_tracker = log_tracker & log_tracker\n",
    "log_tracker = log_tracker | (log_tracker - log_tracker)\n",
    "print (log_tracker)"
   ]
  },
  {
   "cell_type": "code",
   "execution_count": 8,
   "id": "ebe42962-b4cd-4490-963c-175ab5f9f085",
   "metadata": {},
   "outputs": [
    {
     "name": "stdout",
     "output_type": "stream",
     "text": [
      " \n"
     ]
    }
   ],
   "source": [
    "#Question 5: Strings\n",
    "string = \"E. Coli\"\n",
    "print (string[2])\n",
    "#the answer is \" \" or the space between the . and C"
   ]
  },
  {
   "cell_type": "code",
   "execution_count": 9,
   "id": "cfdbda7c-b07a-4cae-9f0d-2645b7034ff0",
   "metadata": {},
   "outputs": [
    {
     "ename": "TypeError",
     "evalue": "'str' object does not support item assignment",
     "output_type": "error",
     "traceback": [
      "\u001b[0;31m---------------------------------------------------------------------------\u001b[0m",
      "\u001b[0;31mTypeError\u001b[0m                                 Traceback (most recent call last)",
      "Cell \u001b[0;32mIn[9], line 3\u001b[0m\n\u001b[1;32m      1\u001b[0m \u001b[38;5;66;03m#Question 6: Strings 2\u001b[39;00m\n\u001b[1;32m      2\u001b[0m string \u001b[38;5;241m=\u001b[39m \u001b[38;5;124m\"\u001b[39m\u001b[38;5;124mI Bove Python\u001b[39m\u001b[38;5;124m\"\u001b[39m\n\u001b[0;32m----> 3\u001b[0m string[\u001b[38;5;241m2\u001b[39m] \u001b[38;5;241m=\u001b[39m \u001b[38;5;124m\"\u001b[39m\u001b[38;5;124mL\u001b[39m\u001b[38;5;124m\"\u001b[39m\n\u001b[1;32m      4\u001b[0m \u001b[38;5;28mprint\u001b[39m (string)\n",
      "\u001b[0;31mTypeError\u001b[0m: 'str' object does not support item assignment"
     ]
    }
   ],
   "source": [
    "#Question 6: Strings 2\n",
    "string = \"I Bove Python\"\n",
    "string[2] = \"L\"\n",
    "print (string)"
   ]
  },
  {
   "cell_type": "code",
   "execution_count": null,
   "id": "6e03b34a-ec3a-4afd-ba9d-1f6445742485",
   "metadata": {},
   "outputs": [],
   "source": [
    "#Question 7\n",
    "Medications = 5\n",
    "# Jackson has 5 medications (5 is an integer because he can't have 6.4 medications)"
   ]
  },
  {
   "cell_type": "code",
   "execution_count": 4,
   "id": "9ef452b9-fa83-4ca4-a723-06073b879454",
   "metadata": {},
   "outputs": [
    {
     "name": "stdout",
     "output_type": "stream",
     "text": [
      "24.034609838166958\n"
     ]
    }
   ],
   "source": [
    "#Question 8: Calculating BMI\n",
    "weight = 60\n",
    "height = 1.58\n",
    "BMI = weight/height**2 \n",
    "#weight in in kg, height is in m\n",
    "print (BMI)"
   ]
  },
  {
   "cell_type": "code",
   "execution_count": null,
   "id": "bb5e7425-3fad-4836-9fdc-25c65f54fde7",
   "metadata": {},
   "outputs": [],
   "source": [
    "#Question 9: Explaining the addition of strings vs integers\n",
    "# When adding strings together, you must use \" \" quotation marks to be able to add them together because they are not\n",
    "# technically numeric values. Integers, on the other hand, are numeric values that can be added together"
   ]
  },
  {
   "cell_type": "code",
   "execution_count": null,
   "id": "444ae747-5877-42d7-bd1d-d482c20b90ec",
   "metadata": {},
   "outputs": [],
   "source": [
    "#Question 10: adding strings together\n",
    "string1 = \"3\"\n",
    "string2 = \"7\"\n",
    "print (string1 + string2)"
   ]
  }
 ],
 "metadata": {
  "kernelspec": {
   "display_name": "anaconda-2024.02-py310",
   "language": "python",
   "name": "conda-env-anaconda-2024.02-py310-py"
  },
  "language_info": {
   "codemirror_mode": {
    "name": "ipython",
    "version": 3
   },
   "file_extension": ".py",
   "mimetype": "text/x-python",
   "name": "python",
   "nbconvert_exporter": "python",
   "pygments_lexer": "ipython3",
   "version": "3.10.14"
  }
 },
 "nbformat": 4,
 "nbformat_minor": 5
}
